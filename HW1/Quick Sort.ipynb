{
 "cells": [
  {
   "cell_type": "markdown",
   "metadata": {},
   "source": [
    "## Quick Sort\n",
    "**Quick Sort（快速排序法）**\n",
    "* 採用分割與征服（Divide and Conquer）策略從數列中挑選一個基準點，大於基準的放一邊，小於的放一邊，如此循環最後可完成排序。\n",
    "* 我的作法：\n",
    "    1. 數列中選擇最後一位元素作為基準點（pivot）。\n",
    "    2. 小於此元素的放到左邊的list，大於此元素的放到右邊的list，相等的放到中間的list。\n",
    "    3. 基準點左邊和右邊視為兩個數列，並重複做以上動作直到數列剩下一個元素或沒有元素了。\n",
    "    4. 三個list串聯在一起並返回。"
   ]
  },
  {
   "cell_type": "markdown",
   "metadata": {},
   "source": [
    "* 流程圖"
   ]
  },
  {
   "cell_type": "markdown",
   "metadata": {},
   "source": [
    "![image](https://github.com/ChengShaoChi/Learning-Note/blob/master/Image/QuickSort.png?raw=true)"
   ]
  },
  {
   "cell_type": "code",
   "execution_count": 2,
   "metadata": {},
   "outputs": [
    {
     "name": "stdout",
     "output_type": "stream",
     "text": [
      "[2, 4, 8, 8, 9, 11, 13]\n"
     ]
    }
   ],
   "source": [
    "list1 = [9, 4, 13, 2, 8, 11, 8]\n",
    "\n",
    "def QuickSort(list):\n",
    "    if len(list)<=1:\n",
    "        return list#如果list只有一個元素或沒有元素了，就直接返回該list\n",
    "    \n",
    "    pivot = list[-1]#令基準點的值等於list最後一位的值\n",
    "    \n",
    "    left_list = []#創一個左邊的list，讓比pivot小的放進去\n",
    "    middle_list = []#創一個中間的list，讓跟pivot相等的放進去\n",
    "    right_list = []#創一個右邊的list，讓比pivot大的放進去\n",
    "    \n",
    "    for i in list:\n",
    "        if i < pivot:\n",
    "            left_list.append(i)\n",
    "        elif i == pivot:\n",
    "            middle_list.append(i)\n",
    "        else:\n",
    "            right_list.append(i)\n",
    "    return QuickSort(left_list) + middle_list + QuickSort(right_list)#左邊跟右邊的list還要繼續分\n",
    "\n",
    "print(QuickSort(list1))"
   ]
  },
  {
   "cell_type": "markdown",
   "metadata": {},
   "source": [
    "參考資料：https://emn178.pixnet.net/blog/post/88613503-%E5%BF%AB%E9%80%9F%E6%8E%92%E5%BA%8F%E6%B3%95(quick-sort)"
   ]
  }
 ],
 "metadata": {
  "kernelspec": {
   "display_name": "Python 3",
   "language": "python",
   "name": "python3"
  },
  "language_info": {
   "codemirror_mode": {
    "name": "ipython",
    "version": 3
   },
   "file_extension": ".py",
   "mimetype": "text/x-python",
   "name": "python",
   "nbconvert_exporter": "python",
   "pygments_lexer": "ipython3",
   "version": "3.7.1"
  }
 },
 "nbformat": 4,
 "nbformat_minor": 2
}
